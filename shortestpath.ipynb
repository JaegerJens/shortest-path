{
 "cells": [
  {
   "cell_type": "markdown",
   "metadata": {},
   "source": [
    "# Shortest path\n",
    "\n",
    "basic idea: circulate all locations\n",
    "\n",
    "## how\n",
    "\n",
    "* find center of all locations\n",
    "* connect locations in order of angle around center\n",
    "\n",
    "## unusual\n",
    "\n",
    "* center is outside of tour: use clustering algorithm to partition problem"
   ]
  },
  {
   "cell_type": "code",
   "execution_count": 5,
   "metadata": {},
   "outputs": [
    {
     "name": "stdout",
     "output_type": "stream",
     "text": [
      "[[52.52   13.405 ]\n",
      " [48.7775  9.18  ]\n",
      " [48.1375 11.575 ]\n",
      " [53.55   10.    ]\n",
      " [50.9364  6.9528]\n",
      " [50.1106  8.6822]\n",
      " [51.2333  6.7833]\n",
      " [51.34   12.375 ]\n",
      " [51.5167  7.4667]\n",
      " [51.4508  7.0131]\n",
      " [53.0833  8.8   ]\n",
      " [51.05   13.74  ]\n",
      " [52.3667  9.7167]\n",
      " [49.4539 11.0775]\n",
      " [51.4347  6.7625]\n",
      " [51.4819  7.2158]\n",
      " [51.2667  7.1833]\n",
      " [52.0211  8.5347]\n",
      " [50.7333  7.1   ]\n",
      " [51.9625  7.6256]\n",
      " [49.4878  8.4661]\n",
      " [49.0092  8.404 ]\n",
      " [48.3689 10.8978]\n",
      " [50.0825  8.24  ]\n",
      " [51.2     6.4333]\n",
      " [51.5167  7.1   ]\n",
      " [50.7756  6.0836]\n",
      " [52.2667 10.5167]\n",
      " [50.8333 12.9167]\n",
      " [54.3233 10.1394]\n",
      " [51.4828 11.9697]\n",
      " [52.1317 11.6392]\n",
      " [47.995   7.85  ]\n",
      " [51.3333  6.5667]\n",
      " [49.9833  8.2667]\n",
      " [53.8697 10.6864]\n",
      " [50.9833 11.0333]\n",
      " [51.4967  6.8706]\n",
      " [54.0833 12.1333]\n",
      " [51.3158  9.4979]\n",
      " [51.3667  7.4833]\n",
      " [52.4    13.0667]\n",
      " [49.2333  7.    ]\n",
      " [51.6833  7.8167]\n",
      " [49.4811  8.4353]\n",
      " [51.4275  6.8825]\n",
      " [53.1439  8.2139]\n",
      " [52.2833  8.05  ]\n",
      " [51.0333  6.9833]\n",
      " [49.8722  8.6528]\n",
      " [51.1667  7.0833]\n",
      " [49.4167  8.7167]\n",
      " [51.55    7.2167]\n",
      " [51.2     6.7   ]\n",
      " [49.0167 12.0833]\n",
      " [51.7181  8.7542]\n",
      " [48.7631 11.425 ]\n",
      " [49.4667 11.    ]\n",
      " [49.7833  9.9333]\n",
      " [48.4     9.9833]\n",
      " [49.15    9.2167]\n",
      " [48.895   8.705 ]\n",
      " [52.4231 10.7872]\n",
      " [51.5339  9.9356]\n",
      " [51.5247  6.9228]\n",
      " [48.4833  9.2167]\n",
      " [50.3597  7.5978]\n",
      " [53.55    8.5833]\n",
      " [49.5833 11.0167]\n",
      " [51.585   7.1619]\n",
      " [50.9918  7.1303]\n",
      " [51.1833  7.2   ]\n",
      " [50.9272 11.5861]\n",
      " [49.7567  6.6414]\n",
      " [52.15   10.3333]\n",
      " [51.4592  6.6197]\n",
      " [50.8833  8.0167]\n",
      " [52.15    9.95  ]\n",
      " [51.9     8.3833]\n",
      " [49.4447  7.7689]\n",
      " [53.6333 11.4167]\n",
      " [48.7333  9.3167]\n",
      " [48.8975  9.1922]\n",
      " [51.5667  6.9667]\n",
      " [47.85   12.1333]\n",
      " [51.6     7.1333]\n",
      " [51.1714  6.9394]\n",
      " [53.7519  9.6511]\n",
      " [51.4789 11.9214]\n",
      " [53.6333  9.8   ]\n",
      " [50.8014  7.2044]\n",
      " [48.1333 11.3667]\n",
      " [48.7333  9.25  ]\n",
      " [48.8598  9.1852]\n",
      " [48.2833 11.5667]\n",
      " [50.0722  8.4864]\n",
      " [48.0658 11.61  ]\n",
      " [47.8092  9.6444]\n",
      " [50.0667  8.8333]\n",
      " [50.1333  8.5   ]\n",
      " [48.1    11.7333]\n",
      " [50.1436  8.57  ]\n",
      " [48.0667 11.6667]\n",
      " [48.15   11.35  ]\n",
      " [48.2    11.3667]\n",
      " [53.6028  9.8233]\n",
      " [47.9133 11.4278]\n",
      " [53.5406 10.2111]\n",
      " [50.7794  6.1625]\n",
      " [49.4     8.6333]\n",
      " [48.0833 11.6833]\n",
      " [48.9     9.1333]\n",
      " [53.4931 10.2533]\n",
      " [54.3333 10.0833]\n",
      " [48.1667 11.3167]\n",
      " [50.1667  8.5667]\n",
      " [50.4144  7.4606]\n",
      " [49.2933  8.5219]\n",
      " [52.373  13.6213]\n",
      " [48.7239  9.3797]\n",
      " [47.9664  7.8286]\n",
      " [49.5914 11.0522]\n",
      " [50.1006  8.7665]]\n"
     ]
    }
   ],
   "source": [
    "import numpy as np\n",
    "import pandas as pd\n",
    "\n",
    "cities = pd.read_csv('german-cities.csv')\n",
    "locations = cities[['lat', 'lng']].to_numpy()\n",
    "print(locations)"
   ]
  },
  {
   "cell_type": "code",
   "execution_count": 3,
   "metadata": {},
   "outputs": [
    {
     "name": "stdout",
     "output_type": "stream",
     "text": [
      "[[-0.70710678 -0.70710678]\n",
      " [ 0.70710678 -0.70710678]\n",
      " [ 0.70710678  0.70710678]\n",
      " [-0.70710678  0.70710678]]\n"
     ]
    }
   ],
   "source": [
    "import numpy as np\n",
    "\n",
    "coords = np.array([[-1, -1], [1, -1], [1, 1], [-1, 1]])\n",
    "\n",
    "center = np.mean(coords, axis=0)\n",
    "\n",
    "distances = np.linalg.norm(coords - center, axis=1)\n",
    "\n",
    "normalizedCoords = coords / distances[:, np.newaxis]\n",
    "\n",
    "print(normalizedCoords)\n"
   ]
  },
  {
   "cell_type": "markdown",
   "metadata": {},
   "source": [
    "\n",
    "basic idea: circulate all locations\n",
    "\n",
    "how:\n",
    "\n",
    "* find center of all locations\n",
    "* connect locations in order of angle around center\n",
    "\n"
   ]
  },
  {
   "cell_type": "code",
   "execution_count": 4,
   "metadata": {},
   "outputs": [
    {
     "name": "stdout",
     "output_type": "stream",
     "text": [
      "[ 0. -1.  1.  2.]\n",
      "[1 2 3]\n"
     ]
    }
   ],
   "source": [
    "def badradius(x):\n",
    "    return x+(x/abs(x) - 1)*(1 + x)\n",
    "\n",
    "print(badradius(np.array([-2, -1, 1, 2])))\n",
    "\n",
    "foo = np.array([[10, 1], [11, 2], [12, 3]])\n",
    "print(foo[:, 1])"
   ]
  },
  {
   "cell_type": "code",
   "execution_count": 16,
   "metadata": {},
   "outputs": [
    {
     "name": "stdout",
     "output_type": "stream",
     "text": [
      "[1.         1.41421356]\n"
     ]
    }
   ],
   "source": [
    "def vecLen(vec):\n",
    "    return np.sqrt(vec[0]*vec[0] + vec[1]*vec[1])\n",
    "\n",
    "data = np.array([[0,1], [1, 1]])\n",
    "\n",
    "print(np.apply_along_axis(vecLen, 0, data))\n"
   ]
  }
 ],
 "metadata": {
  "kernelspec": {
   "display_name": "Python 3",
   "language": "python",
   "name": "python3"
  },
  "language_info": {
   "codemirror_mode": {
    "name": "ipython",
    "version": 3
   },
   "file_extension": ".py",
   "mimetype": "text/x-python",
   "name": "python",
   "nbconvert_exporter": "python",
   "pygments_lexer": "ipython3",
   "version": "3.10.12"
  }
 },
 "nbformat": 4,
 "nbformat_minor": 2
}
