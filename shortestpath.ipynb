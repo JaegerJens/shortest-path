{
 "cells": [
  {
   "cell_type": "code",
   "execution_count": 4,
   "metadata": {},
   "outputs": [
    {
     "name": "stdout",
     "output_type": "stream",
     "text": [
      "[[-0.70710678 -0.70710678]\n",
      " [ 0.70710678 -0.70710678]\n",
      " [ 0.70710678  0.70710678]\n",
      " [-0.70710678  0.70710678]]\n"
     ]
    }
   ],
   "source": [
    "import numpy as np\n",
    "\n",
    "coords = np.array([[-1, -1], [1, -1], [1, 1], [-1, 1]])\n",
    "\n",
    "center = np.mean(coords, axis=0)\n",
    "\n",
    "distances = np.linalg.norm(coords - center, axis=1)\n",
    "\n",
    "normalizedCoords = coords / distances[:, np.newaxis]\n",
    "\n",
    "print(normalizedCoords)\n"
   ]
  }
 ],
 "metadata": {
  "kernelspec": {
   "display_name": "Python 3",
   "language": "python",
   "name": "python3"
  },
  "language_info": {
   "codemirror_mode": {
    "name": "ipython",
    "version": 3
   },
   "file_extension": ".py",
   "mimetype": "text/x-python",
   "name": "python",
   "nbconvert_exporter": "python",
   "pygments_lexer": "ipython3",
   "version": "3.10.11"
  }
 },
 "nbformat": 4,
 "nbformat_minor": 2
}
