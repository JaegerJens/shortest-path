{
 "cells": [
  {
   "cell_type": "code",
   "execution_count": 3,
   "metadata": {},
   "outputs": [
    {
     "name": "stdout",
     "output_type": "stream",
     "text": [
      "[[-0.70710678 -0.70710678]\n",
      " [ 0.70710678 -0.70710678]\n",
      " [ 0.70710678  0.70710678]\n",
      " [-0.70710678  0.70710678]]\n"
     ]
    }
   ],
   "source": [
    "import numpy as np\n",
    "\n",
    "coords = np.array([[-1, -1], [1, -1], [1, 1], [-1, 1]])\n",
    "\n",
    "center = np.mean(coords, axis=0)\n",
    "\n",
    "distances = np.linalg.norm(coords - center, axis=1)\n",
    "\n",
    "normalizedCoords = coords / distances[:, np.newaxis]\n",
    "\n",
    "print(normalizedCoords)\n"
   ]
  },
  {
   "cell_type": "code",
   "execution_count": 4,
   "metadata": {},
   "outputs": [
    {
     "name": "stdout",
     "output_type": "stream",
     "text": [
      "[ 0. -1.  1.  2.]\n",
      "[1 2 3]\n"
     ]
    }
   ],
   "source": [
    "def badradius(x):\n",
    "    return x+(x/abs(x) - 1)*(1 + x)\n",
    "\n",
    "print(badradius(np.array([-2, -1, 1, 2])))\n",
    "\n",
    "foo = np.array([[10, 1], [11, 2], [12, 3]])\n",
    "print(foo[:, 1])"
   ]
  },
  {
   "cell_type": "code",
   "execution_count": 16,
   "metadata": {},
   "outputs": [
    {
     "name": "stdout",
     "output_type": "stream",
     "text": [
      "[1.         1.41421356]\n"
     ]
    }
   ],
   "source": [
    "def vecLen(vec):\n",
    "    return np.sqrt(vec[0]*vec[0] + vec[1]*vec[1])\n",
    "\n",
    "data = np.array([[0,1], [1, 1]])\n",
    "\n",
    "print(np.apply_along_axis(vecLen, 0, data))\n"
   ]
  }
 ],
 "metadata": {
  "kernelspec": {
   "display_name": "Python 3",
   "language": "python",
   "name": "python3"
  },
  "language_info": {
   "codemirror_mode": {
    "name": "ipython",
    "version": 3
   },
   "file_extension": ".py",
   "mimetype": "text/x-python",
   "name": "python",
   "nbconvert_exporter": "python",
   "pygments_lexer": "ipython3",
   "version": "3.10.11"
  }
 },
 "nbformat": 4,
 "nbformat_minor": 2
}
